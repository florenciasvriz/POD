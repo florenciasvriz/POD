{
 "cells": [
  {
   "cell_type": "markdown",
   "id": "ae009962-4aa9-4eb4-8549-9e4feb0be98e",
   "metadata": {},
   "source": [
    "TRABAJO PRÁCTICO INTEGRADOR 2024"
   ]
  },
  {
   "cell_type": "markdown",
   "id": "53691796-e269-40d6-b6f2-2c1157d86008",
   "metadata": {},
   "source": [
    "Autores: Baez María Lucia, Nogueira Guadalupe, Sampayo Melanie, Svriz Levato Florencia"
   ]
  },
  {
   "cell_type": "markdown",
   "id": "8ac0a4c2-7a6a-4a28-ab6e-3d54f716d6e6",
   "metadata": {},
   "source": [
    "En este trabajo práctico se utilizó el dataset \"Student Performance Factors\", para realizar un análisis y ver el rendimiento de los estudiantes según distintos factores que influyen en su desempeño academico.\n",
    "https://www.kaggle.com/datasets/lainguyn123/student-performance-factors/data"
   ]
  },
  {
   "cell_type": "markdown",
   "id": "b3fbd3ea-ad40-402a-97a7-87527def8b0e",
   "metadata": {},
   "source": [
    "Para comenzar se carga un archivo de datos en formato CSV utilizando la librería Pandas. Luego, el código valida las filas del archivo utilizando el modelo de validación definido con Pydantic, una librería especializada en la validación de datos basada en modelos de clases. Se seleccionó la variable objetivo : \"Exam Score\", y las variables de interes: \"Hours_Studied\", \"Sleep_Hours\" y \"Motivation_Level\".\n",
    "\n",
    "Después, se valida cada fila con el modelo de Pydantic para asegurarse de que todos los datos sean correctos. Si los datos son válidos, se convierten en un diccionario y se almacenan en una nueva lista de registros válidos. Las filas válidas e inválidas se guardan en dos archivos CSV diferentes: Valid_StudentPerformanceFactors.csv y Invalid_StudentPerformanceFactors.csv.\n",
    "\n",
    "Finalmente, el código imprime cuántas filas fueron consideradas válidas y cuántas fueron inválidas."
   ]
  },
  {
   "cell_type": "code",
   "execution_count": 13,
   "id": "5a361582-3d3d-493d-83c4-a1b1cd6d964c",
   "metadata": {},
   "outputs": [
    {
     "name": "stdout",
     "output_type": "stream",
     "text": [
      "Requirement already satisfied: pandas in c:\\users\\lucia baez\\appdata\\local\\programs\\python\\python313\\lib\\site-packages (2.2.3)\n",
      "Requirement already satisfied: numpy>=1.26.0 in c:\\users\\lucia baez\\appdata\\local\\programs\\python\\python313\\lib\\site-packages (from pandas) (2.1.3)\n",
      "Requirement already satisfied: python-dateutil>=2.8.2 in c:\\users\\lucia baez\\appdata\\local\\programs\\python\\python313\\lib\\site-packages (from pandas) (2.9.0.post0)\n",
      "Requirement already satisfied: pytz>=2020.1 in c:\\users\\lucia baez\\appdata\\local\\programs\\python\\python313\\lib\\site-packages (from pandas) (2024.2)\n",
      "Requirement already satisfied: tzdata>=2022.7 in c:\\users\\lucia baez\\appdata\\local\\programs\\python\\python313\\lib\\site-packages (from pandas) (2024.2)\n",
      "Requirement already satisfied: six>=1.5 in c:\\users\\lucia baez\\appdata\\local\\programs\\python\\python313\\lib\\site-packages (from python-dateutil>=2.8.2->pandas) (1.16.0)\n",
      "Requirement already satisfied: pydantic in c:\\users\\lucia baez\\appdata\\local\\programs\\python\\python313\\lib\\site-packages (2.10.0)\n",
      "Requirement already satisfied: annotated-types>=0.6.0 in c:\\users\\lucia baez\\appdata\\local\\programs\\python\\python313\\lib\\site-packages (from pydantic) (0.7.0)\n",
      "Requirement already satisfied: pydantic-core==2.27.0 in c:\\users\\lucia baez\\appdata\\local\\programs\\python\\python313\\lib\\site-packages (from pydantic) (2.27.0)\n",
      "Requirement already satisfied: typing-extensions>=4.12.2 in c:\\users\\lucia baez\\appdata\\local\\programs\\python\\python313\\lib\\site-packages (from pydantic) (4.12.2)\n"
     ]
    },
    {
     "ename": "FileNotFoundError",
     "evalue": "[Errno 2] No such file or directory: 'StudentPerformanceFactors.csv'",
     "output_type": "error",
     "traceback": [
      "\u001b[1;31m---------------------------------------------------------------------------\u001b[0m",
      "\u001b[1;31mFileNotFoundError\u001b[0m                         Traceback (most recent call last)",
      "Cell \u001b[1;32mIn[13], line 9\u001b[0m\n\u001b[0;32m      6\u001b[0m \u001b[38;5;28;01mfrom\u001b[39;00m \u001b[38;5;21;01mtyping\u001b[39;00m \u001b[38;5;28;01mimport\u001b[39;00m Optional\n\u001b[0;32m      8\u001b[0m file_path \u001b[38;5;241m=\u001b[39m \u001b[38;5;124m'\u001b[39m\u001b[38;5;124mStudentPerformanceFactors.csv\u001b[39m\u001b[38;5;124m'\u001b[39m\n\u001b[1;32m----> 9\u001b[0m df \u001b[38;5;241m=\u001b[39m \u001b[43mpd\u001b[49m\u001b[38;5;241;43m.\u001b[39;49m\u001b[43mread_csv\u001b[49m\u001b[43m(\u001b[49m\u001b[43mfile_path\u001b[49m\u001b[43m)\u001b[49m\n\u001b[0;32m     11\u001b[0m variables_interes \u001b[38;5;241m=\u001b[39m [\u001b[38;5;124m'\u001b[39m\u001b[38;5;124mExam_Score\u001b[39m\u001b[38;5;124m'\u001b[39m, \u001b[38;5;124m'\u001b[39m\u001b[38;5;124mHours_Studied\u001b[39m\u001b[38;5;124m'\u001b[39m, \u001b[38;5;124m'\u001b[39m\u001b[38;5;124mSleep_Hours\u001b[39m\u001b[38;5;124m'\u001b[39m, \u001b[38;5;124m'\u001b[39m\u001b[38;5;124mMotivation_Level\u001b[39m\u001b[38;5;124m'\u001b[39m]\n\u001b[0;32m     13\u001b[0m \u001b[38;5;28;01mclass\u001b[39;00m \u001b[38;5;21;01mStudentPerformance\u001b[39;00m(BaseModel):\n",
      "File \u001b[1;32m~\\AppData\\Local\\Programs\\Python\\Python313\\Lib\\site-packages\\pandas\\io\\parsers\\readers.py:1026\u001b[0m, in \u001b[0;36mread_csv\u001b[1;34m(filepath_or_buffer, sep, delimiter, header, names, index_col, usecols, dtype, engine, converters, true_values, false_values, skipinitialspace, skiprows, skipfooter, nrows, na_values, keep_default_na, na_filter, verbose, skip_blank_lines, parse_dates, infer_datetime_format, keep_date_col, date_parser, date_format, dayfirst, cache_dates, iterator, chunksize, compression, thousands, decimal, lineterminator, quotechar, quoting, doublequote, escapechar, comment, encoding, encoding_errors, dialect, on_bad_lines, delim_whitespace, low_memory, memory_map, float_precision, storage_options, dtype_backend)\u001b[0m\n\u001b[0;32m   1013\u001b[0m kwds_defaults \u001b[38;5;241m=\u001b[39m _refine_defaults_read(\n\u001b[0;32m   1014\u001b[0m     dialect,\n\u001b[0;32m   1015\u001b[0m     delimiter,\n\u001b[1;32m   (...)\u001b[0m\n\u001b[0;32m   1022\u001b[0m     dtype_backend\u001b[38;5;241m=\u001b[39mdtype_backend,\n\u001b[0;32m   1023\u001b[0m )\n\u001b[0;32m   1024\u001b[0m kwds\u001b[38;5;241m.\u001b[39mupdate(kwds_defaults)\n\u001b[1;32m-> 1026\u001b[0m \u001b[38;5;28;01mreturn\u001b[39;00m \u001b[43m_read\u001b[49m\u001b[43m(\u001b[49m\u001b[43mfilepath_or_buffer\u001b[49m\u001b[43m,\u001b[49m\u001b[43m \u001b[49m\u001b[43mkwds\u001b[49m\u001b[43m)\u001b[49m\n",
      "File \u001b[1;32m~\\AppData\\Local\\Programs\\Python\\Python313\\Lib\\site-packages\\pandas\\io\\parsers\\readers.py:620\u001b[0m, in \u001b[0;36m_read\u001b[1;34m(filepath_or_buffer, kwds)\u001b[0m\n\u001b[0;32m    617\u001b[0m _validate_names(kwds\u001b[38;5;241m.\u001b[39mget(\u001b[38;5;124m\"\u001b[39m\u001b[38;5;124mnames\u001b[39m\u001b[38;5;124m\"\u001b[39m, \u001b[38;5;28;01mNone\u001b[39;00m))\n\u001b[0;32m    619\u001b[0m \u001b[38;5;66;03m# Create the parser.\u001b[39;00m\n\u001b[1;32m--> 620\u001b[0m parser \u001b[38;5;241m=\u001b[39m \u001b[43mTextFileReader\u001b[49m\u001b[43m(\u001b[49m\u001b[43mfilepath_or_buffer\u001b[49m\u001b[43m,\u001b[49m\u001b[43m \u001b[49m\u001b[38;5;241;43m*\u001b[39;49m\u001b[38;5;241;43m*\u001b[39;49m\u001b[43mkwds\u001b[49m\u001b[43m)\u001b[49m\n\u001b[0;32m    622\u001b[0m \u001b[38;5;28;01mif\u001b[39;00m chunksize \u001b[38;5;129;01mor\u001b[39;00m iterator:\n\u001b[0;32m    623\u001b[0m     \u001b[38;5;28;01mreturn\u001b[39;00m parser\n",
      "File \u001b[1;32m~\\AppData\\Local\\Programs\\Python\\Python313\\Lib\\site-packages\\pandas\\io\\parsers\\readers.py:1620\u001b[0m, in \u001b[0;36mTextFileReader.__init__\u001b[1;34m(self, f, engine, **kwds)\u001b[0m\n\u001b[0;32m   1617\u001b[0m     \u001b[38;5;28mself\u001b[39m\u001b[38;5;241m.\u001b[39moptions[\u001b[38;5;124m\"\u001b[39m\u001b[38;5;124mhas_index_names\u001b[39m\u001b[38;5;124m\"\u001b[39m] \u001b[38;5;241m=\u001b[39m kwds[\u001b[38;5;124m\"\u001b[39m\u001b[38;5;124mhas_index_names\u001b[39m\u001b[38;5;124m\"\u001b[39m]\n\u001b[0;32m   1619\u001b[0m \u001b[38;5;28mself\u001b[39m\u001b[38;5;241m.\u001b[39mhandles: IOHandles \u001b[38;5;241m|\u001b[39m \u001b[38;5;28;01mNone\u001b[39;00m \u001b[38;5;241m=\u001b[39m \u001b[38;5;28;01mNone\u001b[39;00m\n\u001b[1;32m-> 1620\u001b[0m \u001b[38;5;28mself\u001b[39m\u001b[38;5;241m.\u001b[39m_engine \u001b[38;5;241m=\u001b[39m \u001b[38;5;28;43mself\u001b[39;49m\u001b[38;5;241;43m.\u001b[39;49m\u001b[43m_make_engine\u001b[49m\u001b[43m(\u001b[49m\u001b[43mf\u001b[49m\u001b[43m,\u001b[49m\u001b[43m \u001b[49m\u001b[38;5;28;43mself\u001b[39;49m\u001b[38;5;241;43m.\u001b[39;49m\u001b[43mengine\u001b[49m\u001b[43m)\u001b[49m\n",
      "File \u001b[1;32m~\\AppData\\Local\\Programs\\Python\\Python313\\Lib\\site-packages\\pandas\\io\\parsers\\readers.py:1880\u001b[0m, in \u001b[0;36mTextFileReader._make_engine\u001b[1;34m(self, f, engine)\u001b[0m\n\u001b[0;32m   1878\u001b[0m     \u001b[38;5;28;01mif\u001b[39;00m \u001b[38;5;124m\"\u001b[39m\u001b[38;5;124mb\u001b[39m\u001b[38;5;124m\"\u001b[39m \u001b[38;5;129;01mnot\u001b[39;00m \u001b[38;5;129;01min\u001b[39;00m mode:\n\u001b[0;32m   1879\u001b[0m         mode \u001b[38;5;241m+\u001b[39m\u001b[38;5;241m=\u001b[39m \u001b[38;5;124m\"\u001b[39m\u001b[38;5;124mb\u001b[39m\u001b[38;5;124m\"\u001b[39m\n\u001b[1;32m-> 1880\u001b[0m \u001b[38;5;28mself\u001b[39m\u001b[38;5;241m.\u001b[39mhandles \u001b[38;5;241m=\u001b[39m \u001b[43mget_handle\u001b[49m\u001b[43m(\u001b[49m\n\u001b[0;32m   1881\u001b[0m \u001b[43m    \u001b[49m\u001b[43mf\u001b[49m\u001b[43m,\u001b[49m\n\u001b[0;32m   1882\u001b[0m \u001b[43m    \u001b[49m\u001b[43mmode\u001b[49m\u001b[43m,\u001b[49m\n\u001b[0;32m   1883\u001b[0m \u001b[43m    \u001b[49m\u001b[43mencoding\u001b[49m\u001b[38;5;241;43m=\u001b[39;49m\u001b[38;5;28;43mself\u001b[39;49m\u001b[38;5;241;43m.\u001b[39;49m\u001b[43moptions\u001b[49m\u001b[38;5;241;43m.\u001b[39;49m\u001b[43mget\u001b[49m\u001b[43m(\u001b[49m\u001b[38;5;124;43m\"\u001b[39;49m\u001b[38;5;124;43mencoding\u001b[39;49m\u001b[38;5;124;43m\"\u001b[39;49m\u001b[43m,\u001b[49m\u001b[43m \u001b[49m\u001b[38;5;28;43;01mNone\u001b[39;49;00m\u001b[43m)\u001b[49m\u001b[43m,\u001b[49m\n\u001b[0;32m   1884\u001b[0m \u001b[43m    \u001b[49m\u001b[43mcompression\u001b[49m\u001b[38;5;241;43m=\u001b[39;49m\u001b[38;5;28;43mself\u001b[39;49m\u001b[38;5;241;43m.\u001b[39;49m\u001b[43moptions\u001b[49m\u001b[38;5;241;43m.\u001b[39;49m\u001b[43mget\u001b[49m\u001b[43m(\u001b[49m\u001b[38;5;124;43m\"\u001b[39;49m\u001b[38;5;124;43mcompression\u001b[39;49m\u001b[38;5;124;43m\"\u001b[39;49m\u001b[43m,\u001b[49m\u001b[43m \u001b[49m\u001b[38;5;28;43;01mNone\u001b[39;49;00m\u001b[43m)\u001b[49m\u001b[43m,\u001b[49m\n\u001b[0;32m   1885\u001b[0m \u001b[43m    \u001b[49m\u001b[43mmemory_map\u001b[49m\u001b[38;5;241;43m=\u001b[39;49m\u001b[38;5;28;43mself\u001b[39;49m\u001b[38;5;241;43m.\u001b[39;49m\u001b[43moptions\u001b[49m\u001b[38;5;241;43m.\u001b[39;49m\u001b[43mget\u001b[49m\u001b[43m(\u001b[49m\u001b[38;5;124;43m\"\u001b[39;49m\u001b[38;5;124;43mmemory_map\u001b[39;49m\u001b[38;5;124;43m\"\u001b[39;49m\u001b[43m,\u001b[49m\u001b[43m \u001b[49m\u001b[38;5;28;43;01mFalse\u001b[39;49;00m\u001b[43m)\u001b[49m\u001b[43m,\u001b[49m\n\u001b[0;32m   1886\u001b[0m \u001b[43m    \u001b[49m\u001b[43mis_text\u001b[49m\u001b[38;5;241;43m=\u001b[39;49m\u001b[43mis_text\u001b[49m\u001b[43m,\u001b[49m\n\u001b[0;32m   1887\u001b[0m \u001b[43m    \u001b[49m\u001b[43merrors\u001b[49m\u001b[38;5;241;43m=\u001b[39;49m\u001b[38;5;28;43mself\u001b[39;49m\u001b[38;5;241;43m.\u001b[39;49m\u001b[43moptions\u001b[49m\u001b[38;5;241;43m.\u001b[39;49m\u001b[43mget\u001b[49m\u001b[43m(\u001b[49m\u001b[38;5;124;43m\"\u001b[39;49m\u001b[38;5;124;43mencoding_errors\u001b[39;49m\u001b[38;5;124;43m\"\u001b[39;49m\u001b[43m,\u001b[49m\u001b[43m \u001b[49m\u001b[38;5;124;43m\"\u001b[39;49m\u001b[38;5;124;43mstrict\u001b[39;49m\u001b[38;5;124;43m\"\u001b[39;49m\u001b[43m)\u001b[49m\u001b[43m,\u001b[49m\n\u001b[0;32m   1888\u001b[0m \u001b[43m    \u001b[49m\u001b[43mstorage_options\u001b[49m\u001b[38;5;241;43m=\u001b[39;49m\u001b[38;5;28;43mself\u001b[39;49m\u001b[38;5;241;43m.\u001b[39;49m\u001b[43moptions\u001b[49m\u001b[38;5;241;43m.\u001b[39;49m\u001b[43mget\u001b[49m\u001b[43m(\u001b[49m\u001b[38;5;124;43m\"\u001b[39;49m\u001b[38;5;124;43mstorage_options\u001b[39;49m\u001b[38;5;124;43m\"\u001b[39;49m\u001b[43m,\u001b[49m\u001b[43m \u001b[49m\u001b[38;5;28;43;01mNone\u001b[39;49;00m\u001b[43m)\u001b[49m\u001b[43m,\u001b[49m\n\u001b[0;32m   1889\u001b[0m \u001b[43m\u001b[49m\u001b[43m)\u001b[49m\n\u001b[0;32m   1890\u001b[0m \u001b[38;5;28;01massert\u001b[39;00m \u001b[38;5;28mself\u001b[39m\u001b[38;5;241m.\u001b[39mhandles \u001b[38;5;129;01mis\u001b[39;00m \u001b[38;5;129;01mnot\u001b[39;00m \u001b[38;5;28;01mNone\u001b[39;00m\n\u001b[0;32m   1891\u001b[0m f \u001b[38;5;241m=\u001b[39m \u001b[38;5;28mself\u001b[39m\u001b[38;5;241m.\u001b[39mhandles\u001b[38;5;241m.\u001b[39mhandle\n",
      "File \u001b[1;32m~\\AppData\\Local\\Programs\\Python\\Python313\\Lib\\site-packages\\pandas\\io\\common.py:873\u001b[0m, in \u001b[0;36mget_handle\u001b[1;34m(path_or_buf, mode, encoding, compression, memory_map, is_text, errors, storage_options)\u001b[0m\n\u001b[0;32m    868\u001b[0m \u001b[38;5;28;01melif\u001b[39;00m \u001b[38;5;28misinstance\u001b[39m(handle, \u001b[38;5;28mstr\u001b[39m):\n\u001b[0;32m    869\u001b[0m     \u001b[38;5;66;03m# Check whether the filename is to be opened in binary mode.\u001b[39;00m\n\u001b[0;32m    870\u001b[0m     \u001b[38;5;66;03m# Binary mode does not support 'encoding' and 'newline'.\u001b[39;00m\n\u001b[0;32m    871\u001b[0m     \u001b[38;5;28;01mif\u001b[39;00m ioargs\u001b[38;5;241m.\u001b[39mencoding \u001b[38;5;129;01mand\u001b[39;00m \u001b[38;5;124m\"\u001b[39m\u001b[38;5;124mb\u001b[39m\u001b[38;5;124m\"\u001b[39m \u001b[38;5;129;01mnot\u001b[39;00m \u001b[38;5;129;01min\u001b[39;00m ioargs\u001b[38;5;241m.\u001b[39mmode:\n\u001b[0;32m    872\u001b[0m         \u001b[38;5;66;03m# Encoding\u001b[39;00m\n\u001b[1;32m--> 873\u001b[0m         handle \u001b[38;5;241m=\u001b[39m \u001b[38;5;28;43mopen\u001b[39;49m\u001b[43m(\u001b[49m\n\u001b[0;32m    874\u001b[0m \u001b[43m            \u001b[49m\u001b[43mhandle\u001b[49m\u001b[43m,\u001b[49m\n\u001b[0;32m    875\u001b[0m \u001b[43m            \u001b[49m\u001b[43mioargs\u001b[49m\u001b[38;5;241;43m.\u001b[39;49m\u001b[43mmode\u001b[49m\u001b[43m,\u001b[49m\n\u001b[0;32m    876\u001b[0m \u001b[43m            \u001b[49m\u001b[43mencoding\u001b[49m\u001b[38;5;241;43m=\u001b[39;49m\u001b[43mioargs\u001b[49m\u001b[38;5;241;43m.\u001b[39;49m\u001b[43mencoding\u001b[49m\u001b[43m,\u001b[49m\n\u001b[0;32m    877\u001b[0m \u001b[43m            \u001b[49m\u001b[43merrors\u001b[49m\u001b[38;5;241;43m=\u001b[39;49m\u001b[43merrors\u001b[49m\u001b[43m,\u001b[49m\n\u001b[0;32m    878\u001b[0m \u001b[43m            \u001b[49m\u001b[43mnewline\u001b[49m\u001b[38;5;241;43m=\u001b[39;49m\u001b[38;5;124;43m\"\u001b[39;49m\u001b[38;5;124;43m\"\u001b[39;49m\u001b[43m,\u001b[49m\n\u001b[0;32m    879\u001b[0m \u001b[43m        \u001b[49m\u001b[43m)\u001b[49m\n\u001b[0;32m    880\u001b[0m     \u001b[38;5;28;01melse\u001b[39;00m:\n\u001b[0;32m    881\u001b[0m         \u001b[38;5;66;03m# Binary mode\u001b[39;00m\n\u001b[0;32m    882\u001b[0m         handle \u001b[38;5;241m=\u001b[39m \u001b[38;5;28mopen\u001b[39m(handle, ioargs\u001b[38;5;241m.\u001b[39mmode)\n",
      "\u001b[1;31mFileNotFoundError\u001b[0m: [Errno 2] No such file or directory: 'StudentPerformanceFactors.csv'"
     ]
    }
   ],
   "source": [
    "!pip install pandas\n",
    "!pip install pydantic\n",
    "\n",
    "import pandas as pd\n",
    "from pydantic import BaseModel, Field\n",
    "from typing import Optional\n",
    "\n",
    "file_path = 'StudentPerformanceFactors.csv'\n",
    "df = pd.read_csv(file_path)\n",
    "\n",
    "variables_interes = ['Exam_Score', 'Hours_Studied', 'Sleep_Hours', 'Motivation_Level']\n",
    "\n",
    "class StudentPerformance(BaseModel):\n",
    "    Hours_Studied: int = Field(ge=0, le=100)\n",
    "    Sleep_Hours: int = Field(ge=0, le=124)\n",
    "    Exam_Score: int = Field(ge=0, le=100)\n",
    "    Motivation_Level: Optional[str] = None\n",
    "\n",
    "valid_mask = (\n",
    "    (df['Hours_Studied'].between(0, 100)) &\n",
    "    (df['Sleep_Hours'].between(0, 24)) &\n",
    "    (df['Exam_Score'].between(0, 100)) &\n",
    "    (df['Motivation_Level'].isin(['Low', 'Medium', 'High']))\n",
    ")\n",
    "\n",
    "valid_df = df[valid_mask]\n",
    "invalid_df = df[~valid_mask]\n",
    "\n",
    "valid_records = []\n",
    "for _, row in valid_df.iterrows():\n",
    "    student = StudentPerformance.parse_obj(row.to_dict())\n",
    "    valid_records.append(student.dict())\n",
    "\n",
    "valid_df = pd.DataFrame(valid_records)\n",
    "\n",
    "valid_df.to_csv('Valid_StudentPerformanceFactors.csv', index=False)\n",
    "invalid_df.to_csv('Invalid_StudentPerformanceFactors.csv', index=False)\n",
    "\n",
    "print(\"Validación completada.\")\n",
    "print(f\"Número de filas válidas: {len(valid_df)}\")\n",
    "print(f\"Número de filas inválidas: {len(invalid_df)}\")"
   ]
  },
  {
   "cell_type": "markdown",
   "id": "a228730e-6efc-4704-9c6c-628abc72fbac",
   "metadata": {},
   "source": [
    "Calculamos las estadisticas descriptivas de cada variable para conocer el comportamiento y la distribución de tus datos"
   ]
  },
  {
   "cell_type": "code",
   "execution_count": null,
   "id": "21266c76-c8aa-47af-90d5-f182cd599582",
   "metadata": {},
   "outputs": [],
   "source": [
    "descriptivo = valid_df.describe()\n",
    "print(\"Estadísticas descriptivas:\")\n",
    "print(descriptivo)"
   ]
  },
  {
   "cell_type": "markdown",
   "id": "7bca76dc-646a-4212-b32d-da56faf8cb5f",
   "metadata": {},
   "source": [
    "Se genera un histograma para visualizar la distribución de los puntajes de examen (Exam_Score) en el dataset valid_df, con barras que representan la frecuencia de los diferentes rangos de puntajes. Además, incluye etiquetas en los ejes, un título y una cuadrícula para facilitar la lectura de los datos."
   ]
  },
  {
   "cell_type": "code",
   "execution_count": null,
   "id": "6c70ab86-6b76-41ba-9aca-beb6bee55c83",
   "metadata": {},
   "outputs": [],
   "source": [
    "plt.figure(figsize=(10, 6))\n",
    "plt.hist(valid_df['Exam_Score'], bins=30, color='blue', alpha=0.7, edgecolor='black')\n",
    "plt.title('Distribución de Exam_Score', fontsize=16)\n",
    "plt.xlabel('Exam_Score', fontsize=12)\n",
    "plt.ylabel('Frecuencia', fontsize=12)\n",
    "plt.grid(axis='y', linestyle='--', alpha=0.7)\n",
    "plt.show()"
   ]
  },
  {
   "cell_type": "markdown",
   "id": "24ed9171-838d-45db-b718-d5f1b5b425fb",
   "metadata": {},
   "source": [
    "Se creó un gráfico de dispersión (scatter plot) para visualizar la relación entre las horas de estudio (Hours_Studied) y los puntajes del examen (Exam_Score) en el dataset, y otro entre las horas de sueño(Sleep_Hours) y los puntajes obtenidos(Exam_Score), permitiendo identificar patrones o tendencias en los datos."
   ]
  },
  {
   "cell_type": "code",
   "execution_count": null,
   "id": "85a788ac-b240-4c89-9f47-55147890070b",
   "metadata": {},
   "outputs": [],
   "source": [
    "plt.figure(figsize=(10, 6))\n",
    "plt.scatter(valid_df['Hours_Studied'], valid_df['Exam_Score'], color='green', alpha=0.6, edgecolors='black')\n",
    "plt.title('Relación entre Hours_Studied y Exam_Score', fontsize=16)\n",
    "plt.xlabel('Horas de Estudio', fontsize=12)\n",
    "plt.ylabel('Puntuación del Examen', fontsize=12)\n",
    "plt.grid(True, linestyle='--', alpha=0.7)\n",
    "plt.show()"
   ]
  },
  {
   "cell_type": "code",
   "execution_count": null,
   "id": "9de31931-f271-4461-a542-f058ecdcc4bb",
   "metadata": {},
   "outputs": [],
   "source": [
    "plt.figure(figsize=(10, 6))\n",
    "plt.scatter(valid_df['Sleep_Hours'], valid_df['Exam_Score'], color='purple', alpha=0.6, edgecolors='black')\n",
    "plt.title('Relación entre Sleep_Hours y Exam_Score', fontsize=16)\n",
    "plt.xlabel('Horas de Sueño', fontsize=12)\n",
    "plt.ylabel('Puntuación del Examen', fontsize=12)\n",
    "plt.grid(True, linestyle='--', alpha=0.7)\n",
    "plt.show()"
   ]
  },
  {
   "cell_type": "markdown",
   "id": "127991dd-ebbb-4f08-95ae-1182797d6fd1",
   "metadata": {},
   "source": [
    "Se logra interpretar en el primer gráfico que las notas de los estudiantes se concentran entre un puntaje de 60 y 70. En los gráficos de dispersión esta concentración es notoria lo que conlleva a que no haya una correlación entre las variables, ya que los campos de interés tienen un rango amplio de valores. Esto nos permite deducir que mayor cantidad de sueño no garantiza un mayor rendimiento en los examenes."
   ]
  },
  {
   "cell_type": "markdown",
   "id": "62cf29f4-114d-43eb-99ad-4f78652b7c94",
   "metadata": {},
   "source": [
    "Se creó una serie \"Desempeño\" como nueva columna categorica del dataset y se clasificaron los puntajes \"Exam Score\" entre valores altos, medios y bajos."
   ]
  },
  {
   "cell_type": "code",
   "execution_count": null,
   "id": "019d3252-9788-4384-aae6-f1585de0d356",
   "metadata": {},
   "outputs": [],
   "source": [
    "def clasificar_desempeno(score):\n",
    "    if score >= 85:\n",
    "        return 'Alto'\n",
    "    elif score >= 65:\n",
    "        return 'Medio'\n",
    "    else:\n",
    "        return 'Bajo'\n",
    "\n",
    "valid_df['Desempeño'] = valid_df['Exam_Score'].apply(clasificar_desempeno)\n",
    "\n",
    "print(\"Primera fila con la nueva clasificación de desempeño:\")\n",
    "print(valid_df[['Exam_Score', 'Desempeño']].head())"
   ]
  },
  {
   "cell_type": "markdown",
   "id": "8ab39315-454e-4740-a8e1-4bfaea904383",
   "metadata": {},
   "source": [
    "Se calculó la cantidad de estudiantes por categoria de desempeño, demostrando que la consentración esta entre el 60 y 70 puntos, con una media de 67 puntos."
   ]
  },
  {
   "cell_type": "code",
   "execution_count": null,
   "id": "cb4a6304-09c5-4c4b-9739-81d3a7802f16",
   "metadata": {},
   "outputs": [],
   "source": [
    "cantidad_estudiantes_desempeno = valid_df['Desempeño'].value_counts()\n",
    "\n",
    "print(\"Cantidad de estudiantes por categoría de desempeño:\")\n",
    "print(cantidad_estudiantes_desempeno)"
   ]
  },
  {
   "cell_type": "markdown",
   "id": "67da8f3f-0b0a-43ff-964d-0bbfef80c714",
   "metadata": {},
   "source": [
    "Gráfico de los resultados"
   ]
  },
  {
   "cell_type": "code",
   "execution_count": null,
   "id": "29ce9f07-b61d-44f3-a09c-e4fca7d2977f",
   "metadata": {},
   "outputs": [],
   "source": [
    "plt.figure(figsize=(8, 5))\n",
    "cantidad_estudiantes_desempeno.plot(kind='bar', color=['red', 'orange', 'green'], alpha=0.7, edgecolor='black')\n",
    "plt.title('Cantidad de Estudiantes por Categoría de Desempeño', fontsize=14)\n",
    "plt.xlabel('Categoría de Desempeño', fontsize=12)\n",
    "plt.ylabel('Cantidad de Estudiantes', fontsize=12)\n",
    "plt.xticks(rotation=0)\n",
    "plt.grid(axis='y', linestyle='--', alpha=0.7)\n",
    "plt.show()"
   ]
  },
  {
   "cell_type": "markdown",
   "id": "af1382aa-8222-45cf-aceb-3965a24cbb9a",
   "metadata": {},
   "source": [
    "Para finalizar se quizo analizar el nivel de motivación de los estudiantes, calculando la cantidad de niveles y su porcentaje sobre el total."
   ]
  },
  {
   "cell_type": "code",
   "execution_count": null,
   "id": "9208fc7d-1fa3-4462-9340-47987452bc15",
   "metadata": {},
   "outputs": [],
   "source": [
    "num_categorias = valid_df['Motivation_Level'].nunique()\n",
    "\n",
    "print(f'Número de categorías de motivación en los estudiantes: {num_categorias}')\n",
    "\n",
    "porcentaje_motivaciones = valid_df['Motivation_Level'].value_counts(normalize=True) * 100\n",
    "\n",
    "print(round(porcentaje_motivaciones,2))"
   ]
  }
 ],
 "metadata": {
  "kernelspec": {
   "display_name": "Python 3 (ipykernel)",
   "language": "python",
   "name": "python3"
  },
  "language_info": {
   "codemirror_mode": {
    "name": "ipython",
    "version": 3
   },
   "file_extension": ".py",
   "mimetype": "text/x-python",
   "name": "python",
   "nbconvert_exporter": "python",
   "pygments_lexer": "ipython3",
   "version": "3.13.0"
  }
 },
 "nbformat": 4,
 "nbformat_minor": 5
}
